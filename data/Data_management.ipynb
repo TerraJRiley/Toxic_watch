{
 "cells": [
  {
   "cell_type": "code",
   "execution_count": 1,
   "metadata": {},
   "outputs": [],
   "source": [
    "import pandas as pd"
   ]
  },
  {
   "cell_type": "code",
   "execution_count": 3,
   "metadata": {},
   "outputs": [],
   "source": [
    "df = pd.read_csv('./posts_6331.csv')"
   ]
  },
  {
   "cell_type": "code",
   "execution_count": 9,
   "metadata": {},
   "outputs": [
    {
     "name": "stdout",
     "output_type": "stream",
     "text": [
      "<class 'pandas.core.frame.DataFrame'>\n",
      "RangeIndex: 40001 entries, 0 to 40000\n",
      "Data columns (total 12 columns):\n",
      "text          40001 non-null object\n",
      "date          40001 non-null object\n",
      "ids_dict      40001 non-null object\n",
      "post_num      40001 non-null int64\n",
      "auth_posts    40001 non-null object\n",
      "prof_link     39941 non-null object\n",
      "title         40001 non-null object\n",
      "forum_page    40001 non-null int64\n",
      "statuses      40001 non-null object\n",
      "topic_url     40001 non-null object\n",
      "topic_page    40001 non-null int64\n",
      "auth_img      40001 non-null object\n",
      "dtypes: int64(3), object(9)\n",
      "memory usage: 3.7+ MB\n"
     ]
    }
   ],
   "source": [
    "df.iloc[:40001].info()"
   ]
  },
  {
   "cell_type": "code",
   "execution_count": 8,
   "metadata": {},
   "outputs": [
    {
     "name": "stdout",
     "output_type": "stream",
     "text": [
      "<class 'pandas.core.frame.DataFrame'>\n",
      "RangeIndex: 46499 entries, 40000 to 86498\n",
      "Data columns (total 12 columns):\n",
      "text          46499 non-null object\n",
      "date          46499 non-null object\n",
      "ids_dict      46499 non-null object\n",
      "post_num      46499 non-null int64\n",
      "auth_posts    46499 non-null object\n",
      "prof_link     46401 non-null object\n",
      "title         46499 non-null object\n",
      "forum_page    46499 non-null int64\n",
      "statuses      46499 non-null object\n",
      "topic_url     46499 non-null object\n",
      "topic_page    46499 non-null int64\n",
      "auth_img      46499 non-null object\n",
      "dtypes: int64(3), object(9)\n",
      "memory usage: 4.3+ MB\n"
     ]
    }
   ],
   "source": [
    "df.iloc[40000:].info()"
   ]
  },
  {
   "cell_type": "code",
   "execution_count": 11,
   "metadata": {},
   "outputs": [],
   "source": [
    "df.iloc[:40001].to_csv('posts_6331_part1.csv', index = False)\n",
    "df.iloc[40000:].to_csv('posts_6331_part2.csv', index = False)"
   ]
  },
  {
   "cell_type": "code",
   "execution_count": null,
   "metadata": {},
   "outputs": [],
   "source": []
  }
 ],
 "metadata": {
  "kernelspec": {
   "display_name": "Python 3",
   "language": "python",
   "name": "python3"
  },
  "language_info": {
   "codemirror_mode": {
    "name": "ipython",
    "version": 3
   },
   "file_extension": ".py",
   "mimetype": "text/x-python",
   "name": "python",
   "nbconvert_exporter": "python",
   "pygments_lexer": "ipython3",
   "version": "3.6.7"
  }
 },
 "nbformat": 4,
 "nbformat_minor": 2
}
